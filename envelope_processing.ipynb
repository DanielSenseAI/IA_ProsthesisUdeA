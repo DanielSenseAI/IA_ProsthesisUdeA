{
 "cells": [
  {
   "cell_type": "markdown",
   "metadata": {},
   "source": [
    "### Signal Processing Showcase and Exploration \n",
    "Extracting the envelope through different data processing methodologies"
   ]
  },
  {
   "cell_type": "code",
   "execution_count": null,
   "metadata": {},
   "outputs": [],
   "source": [
    "import src\n",
    "from scipy.io import loadmat, whosmat\n",
    "from scipy import stats\n",
    "import numpy as np\n",
    "import matplotlib.pyplot as plt \n",
    "import os\n",
    "import pandas as pd\n",
    "import plotly.express as px\n",
    "from src import config\n",
    "from src import *\n",
    "import re"
   ]
  },
  {
   "cell_type": "code",
   "execution_count": null,
   "metadata": {},
   "outputs": [],
   "source": [
    "# Choose the database to analyze\n",
    "database = 'DB4'\n",
    "\n",
    "# Define the .mat file name to load\n",
    "filename = 'S1_E1_A1.mat'\n",
    "# Define the subject associated with the file\n",
    "subject  = 's1'\n",
    "# Load the .mat file using the loadmatNina function\n",
    "# Parameters: database, file name, and subject\n",
    "mat_file = src.loadmatNina(database, filename, subject=subject)"
   ]
  },
  {
   "cell_type": "code",
   "execution_count": null,
   "metadata": {},
   "outputs": [],
   "source": [
    "# Builds a DataFrame and extracts grasp data from the loaded .mat file.\n",
    "# Parameters:\n",
    "# - mat_file: previously loaded .mat file.\n",
    "# - database: database the file belongs to.\n",
    "# - filename: name of the .mat file.\n",
    "# - rectify: disables data rectification (False).\n",
    "# - normalize: enables data normalization (True).\n",
    "test_df, grasps = src.build_dataframe(mat_file, database, filename, rectify= False, normalize = True)\n",
    "test_df.head()"
   ]
  },
  {
   "cell_type": "code",
   "execution_count": null,
   "metadata": {},
   "outputs": [],
   "source": [
    "src.plot_emg_dataframe(database, test_df, 50, length=0.6) "
   ]
  },
  {
   "cell_type": "markdown",
   "metadata": {},
   "source": [
    "# GET ENVELOPE \n",
    "Computes the envelope of an EMG signal using different methods.\n",
    "\n",
    "### Parameters:\n",
    "----------\n",
    "- **emg_signal** : np.array or pd.DataFrame\n",
    "    - The EMG signal (raw or preprocessed). Can be a NumPy array (1D) or a Pandas DataFrame (each column is a signal).\n",
    "- **envelope_type** : int\n",
    "    - Type of envelope to calculate:\n",
    "        1. Hilbert Transform\n",
    "        2. Root Mean Square (RMS) with a sliding window\n",
    "        3. Moving Average with a sliding window\n",
    "        4. Low-pass filtered absolute signal\n",
    "        5. Wavelet Transform Envelope\n",
    "        6. Peak Detection + Interpolation\n",
    "        7. Teager-Kaiser Energy Operator (TKEO) Envelope\n",
    "- **window_size** : int, optional\n",
    "    - Window size for moving RMS or moving average (default: 50 samples).\n",
    "- **cutoff_freq** : float, optional\n",
    "    - Cutoff frequency for low-pass filtering (default: 10 Hz).\n",
    "- **fs** : int, optional\n",
    "    - Sampling frequency in Hz (default: 2000 Hz).\n",
    "- **Specific Parameters** (must be modified in src inside the function): \n",
    "    - scale=16 for Wavelet Envelope (based on empirical EMG frequency analysis)\n",
    "    - distance=20 for Peak Interpolation (to avoid too many small peaks)\n",
    "    \n",
    "### Returns:\n",
    "-------\n",
    "- **np.array or pd.DataFrame**\n",
    "    - The computed envelope with the same shape as the input.\n"
   ]
  },
  {
   "cell_type": "code",
   "execution_count": null,
   "metadata": {},
   "outputs": [],
   "source": [
    "# Select EMG columns (assuming they are the first N columns)\n",
    "emg_columns = [col for col in test_df.columns if \"Channel\" in col]\n",
    "\n",
    "# Apply envelope extraction to EMG columns\n",
    "envelope_df = get_envelope(test_df[emg_columns], envelope_type=7)  # Change type as needed\n",
    "\n",
    "# Preserve non-EMG columns\n",
    "meta_columns = [\"Time (s)\", \"subject\", \"re_repetition\", \"stimulus\", \"relabeled\"]\n",
    "result_df = pd.concat([envelope_df, test_df[meta_columns]], axis=1)\n",
    "\n",
    "print(result_df.head())"
   ]
  },
  {
   "cell_type": "code",
   "execution_count": null,
   "metadata": {},
   "outputs": [],
   "source": [
    "src.plot_emg_dataframe(database, result_df, 50, length=0.6) #Using the relabeled grasp number and all default parameters"
   ]
  }
 ],
 "metadata": {
  "kernelspec": {
   "display_name": "venv",
   "language": "python",
   "name": "python3"
  },
  "language_info": {
   "codemirror_mode": {
    "name": "ipython",
    "version": 3
   },
   "file_extension": ".py",
   "mimetype": "text/x-python",
   "name": "python",
   "nbconvert_exporter": "python",
   "pygments_lexer": "ipython3",
   "version": "3.12.3"
  }
 },
 "nbformat": 4,
 "nbformat_minor": 2
}
